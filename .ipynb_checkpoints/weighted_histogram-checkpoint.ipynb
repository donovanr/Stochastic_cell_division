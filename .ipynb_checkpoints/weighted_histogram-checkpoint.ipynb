{
 "metadata": {
  "language": "Julia",
  "name": "",
  "signature": "sha256:c52d8f570e40aa6d1682b5ea7f9952c1e67d9a59c05f0765d481ae1c4d0ec66b"
 },
 "nbformat": 3,
 "nbformat_minor": 0,
 "worksheets": [
  {
   "cells": [
    {
     "cell_type": "heading",
     "level": 1,
     "metadata": {},
     "source": [
      "new hist function"
     ]
    },
    {
     "cell_type": "code",
     "collapsed": false,
     "input": [
      "import Base.sturges\n",
      "\n",
      "function whist!{HT}(h::AbstractArray{HT}, v::AbstractVector, edg::AbstractVector; init::Bool=true, weights::AbstractVector = ones(HT,length(v)), density::Bool=false)\n",
      "\n",
      "    length(weights) == length(v) || error(\"length(weights) must equal length(v)\")\n",
      "    n = length(edg) - 1\n",
      "    length(h) == n || error(\"length(h) must equal length(edg) - 1.\")\n",
      "    \n",
      "    if init\n",
      "        fill!(h, zero(HT))\n",
      "    end\n",
      "    \n",
      "    for j=1:length(v)\n",
      "        i = searchsortedfirst(edg, v[j])-1\n",
      "        if 1 <= i <= n\n",
      "            h[i] += weights[j]\n",
      "        end\n",
      "    end\n",
      "    \n",
      "    if density == true\n",
      "        binwidths = [(edg[i+1] - edg[i]) for i in 1:n]\n",
      "        h = h/sum(h)./binwidths\n",
      "    end\n",
      "    \n",
      "    edg, h\n",
      "end\n",
      "\n",
      "whist(v::AbstractVector, edg::AbstractVector; weights::AbstractVector = ones(Int,length(v)), density::Bool=false) = whist!(Array(eltype(weights), length(edg)-1), v, edg; weights=weights, density=density)\n",
      "whist(v::AbstractVector, n::Integer; weights::AbstractVector = ones(Int,length(v)), density::Bool=false) = whist(v, whistrange(v,n); weights=weights, density=density)\n",
      "whist(v::AbstractVector; weights::AbstractVector = ones(Int,length(v)), density::Bool=false) = whist(v, sturges(length(v)); weights=weights, density=density)"
     ],
     "language": "python",
     "metadata": {},
     "outputs": [
      {
       "metadata": {},
       "output_type": "pyout",
       "prompt_number": 3,
       "text": [
        "whist (generic function with 3 methods)"
       ]
      }
     ],
     "prompt_number": 3
    },
    {
     "cell_type": "code",
     "collapsed": false,
     "input": [
      "v = randn(10^6);\n",
      "w = rand(length(v));\n",
      "edges = floor(minimum(v)):0.1:ceil(maximum(v));"
     ],
     "language": "python",
     "metadata": {},
     "outputs": [],
     "prompt_number": 2
    },
    {
     "cell_type": "code",
     "collapsed": false,
     "input": [
      "function within_eps(v1,v2,eps=10.0^(-15))\n",
      "    t = abs(v1 - v2) .< eps\n",
      "    bool(mean(t))\n",
      "end"
     ],
     "language": "python",
     "metadata": {},
     "outputs": [
      {
       "metadata": {},
       "output_type": "pyout",
       "prompt_number": 48,
       "text": [
        "within_eps (generic function with 2 methods)"
       ]
      }
     ],
     "prompt_number": 48
    },
    {
     "cell_type": "code",
     "collapsed": false,
     "input": [
      "using PyCall\n",
      "@pyimport numpy as np\n",
      "\n",
      "R = 25+1 # repetitions we do\n",
      "K = 6 # log-scale input range\n",
      "T = 6 # types of tests we time\n",
      "\n",
      "times = zeros(K,R,T)\n",
      "\n",
      "for r = 1:R\n",
      "    for k = 1:K\n",
      "        \n",
      "        v = randn(10^k);\n",
      "        w = rand(length(v));\n",
      "        edges = floor(minimum(v)):0.1:ceil(maximum(v));\n",
      "        \n",
      "        tic()\n",
      "        h_base = hist(v, edges)\n",
      "        times[k,r,1] = toq()\n",
      "        \n",
      "        tic()\n",
      "        h_me_u = whist(v, edges)\n",
      "        times[k,r,2] = toq()\n",
      "        \n",
      "        tic()\n",
      "        h_np = np.histogram(v, edges, weights=w);\n",
      "        times[k,r,3] = toq()\n",
      "        \n",
      "        tic()\n",
      "        h_me_w = whist(v, edges; weights=w)\n",
      "        times[k,r,4] = toq()\n",
      "        \n",
      "        tic()\n",
      "        h_np_d = np.histogram(v, edges, weights=w, density=true)\n",
      "        times[k,r,5] = toq()\n",
      "        \n",
      "        tic()\n",
      "        h_me_w_d = whist(v, edges; weights=w, density=true)\n",
      "        times[k,r,6] = toq()\n",
      "        \n",
      "    end\n",
      "end\n",
      "\n",
      "# throw away first pass\n",
      "times = times[:,2:end,:]\n",
      "\n",
      "# throw away min and max\n",
      "filtered_times = zeros(K,R-3,T)\n",
      "for t = 1:T\n",
      "    for k=1:K\n",
      "        filtered_times[k,:,t] = times[k,:,t][minimum(times[k,:,t]) .< times[k,:,t] .< maximum(times[k,:,t])]\n",
      "    end\n",
      "end\n",
      "\n",
      "# gather mean and stdv\n",
      "times_stats = zeros(K,3,T)\n",
      "\n",
      "times_stats[:,1,:] = [10^k for k=1:K, r=1:T]\n",
      "times_stats[:,2,:] = mean(filtered_times,2)\n",
      "times_stats[:,3,:] = std(filtered_times,2);"
     ],
     "language": "python",
     "metadata": {},
     "outputs": [],
     "prompt_number": 129
    },
    {
     "cell_type": "code",
     "collapsed": false,
     "input": [
      "using Plotly\n",
      "\n",
      "Plotly.signin(\"donovanr\", \"jzib7flemh\")\n",
      "\n",
      "trace1 = [\n",
      "    \"x\" => times_stats[:,1,1], \n",
      "    \"y\" => times_stats[:,2,1], \n",
      "    \"error_y\" => [\n",
      "      \"type\" => \"data\", \n",
      "      \"array\" => times_stats[:,3,1], \n",
      "      \"visible\" => true\n",
      "    ], \n",
      "    \"type\" => \"scatter\",\n",
      "    \"name\" => \"Built-in hist (no weights)\"\n",
      "  ]\n",
      "\n",
      "trace2 = [\n",
      "    \"x\" => times_stats[:,1,2], \n",
      "    \"y\" => times_stats[:,2,2], \n",
      "    \"error_y\" => [\n",
      "      \"type\" => \"data\", \n",
      "      \"array\" => times_stats[:,3,2], \n",
      "      \"visible\" => true\n",
      "    ], \n",
      "    \"type\" => \"scatter\",\n",
      "    \"name\" => \"My hist (no weights)\"\n",
      "  ]\n",
      "\n",
      "trace3 = [\n",
      "    \"x\" => times_stats[:,1,3], \n",
      "    \"y\" => times_stats[:,2,3], \n",
      "    \"error_y\" => [\n",
      "      \"type\" => \"data\", \n",
      "      \"array\" => times_stats[:,3,3], \n",
      "      \"visible\" => true\n",
      "    ], \n",
      "    \"type\" => \"scatter\",\n",
      "    \"name\" => \"Numpy hist (with weights)\"\n",
      "  ]\n",
      "\n",
      "trace4 = [\n",
      "    \"x\" => times_stats[:,1,4], \n",
      "    \"y\" => times_stats[:,2,4], \n",
      "    \"error_y\" => [\n",
      "      \"type\" => \"data\", \n",
      "      \"array\" => times_stats[:,3,4], \n",
      "      \"visible\" => true\n",
      "    ], \n",
      "    \"type\" => \"scatter\",\n",
      "    \"name\" => \"My hist (with weights)\"\n",
      "  ]\n",
      "\n",
      "trace5 = [\n",
      "    \"x\" => times_stats[:,1,5], \n",
      "    \"y\" => times_stats[:,2,5], \n",
      "    \"error_y\" => [\n",
      "      \"type\" => \"data\", \n",
      "      \"array\" => times_stats[:,3,5], \n",
      "      \"visible\" => true\n",
      "    ], \n",
      "    \"type\" => \"scatter\",\n",
      "    \"name\" => \"Numpy hist (with weights & density)\"\n",
      "  ]\n",
      "\n",
      "trace6 = [\n",
      "    \"x\" => times_stats[:,1,6], \n",
      "    \"y\" => times_stats[:,2,6], \n",
      "    \"error_y\" => [\n",
      "      \"type\" => \"data\", \n",
      "      \"array\" => times_stats[:,3,6], \n",
      "      \"visible\" => true\n",
      "    ], \n",
      "    \"type\" => \"scatter\",\n",
      "    \"name\" => \"My hist (with weights & density)\"\n",
      "  ]\n",
      "\n",
      "mydata = [trace1, trace2, trace3, trace4, trace5, trace6]\n",
      "\n",
      "layout = [\n",
      "  \"xaxis\" => [\n",
      "    \"title\" => \"Size of input data\", \n",
      "    \"type\" => \"log\", \n",
      "    \"autorange\" => true\n",
      "  ], \n",
      "  \"yaxis\" => [\n",
      "        \"title\" => \"Run time (s)\", \n",
      "    \"type\" => \"log\", \n",
      "    \"autorange\" => true\n",
      "  ]\n",
      "]\n",
      "\n",
      "response = Plotly.plot([mydata], [\"layout\" => layout, \"filename\" => \"basic-error-bar\", \"fileopt\" => \"overwrite\"])\n",
      "plot_url = response[\"url\"]\n",
      "run(`open $plot_url`)"
     ],
     "language": "python",
     "metadata": {},
     "outputs": [],
     "prompt_number": 124
    },
    {
     "cell_type": "code",
     "collapsed": false,
     "input": [
      "h = hist(v, edges; weights=w, density=true)\n",
      "using Winston\n",
      "plot([midpoints([h[1]])],h[2])"
     ],
     "language": "python",
     "metadata": {},
     "outputs": [
      {
       "metadata": {},
       "output_type": "pyout",
       "png": "[encoded data removed]",
       "prompt_number": 49,
       "text": [
        "FramedPlot(...)"
       ]
      }
     ],
     "prompt_number": 49
    },
    {
     "cell_type": "code",
     "collapsed": false,
     "input": [
      "@pyimport numpy as np\n",
      "hn = np.histogram(v, edges, weights=w);\n",
      "plot(hn[2],[midpoints(hn[1])])"
     ],
     "language": "python",
     "metadata": {},
     "outputs": [
      {
       "ename": "LoadError",
       "evalue": "plot not defined\nwhile loading In[8], in expression starting on line 3",
       "output_type": "pyerr",
       "traceback": [
        "plot not defined\nwhile loading In[8], in expression starting on line 3"
       ]
      },
      {
       "output_type": "stream",
       "stream": "stderr",
       "text": [
        "Warning: imported binding for transpose overwritten in module __anon__\n"
       ]
      }
     ],
     "prompt_number": 8
    },
    {
     "cell_type": "code",
     "collapsed": false,
     "input": [
      "versioninfo()"
     ],
     "language": "python",
     "metadata": {},
     "outputs": [
      {
       "output_type": "stream",
       "stream": "stdout",
       "text": [
        "Julia Version 0.3.0-prerelease+3884\n"
       ]
      },
      {
       "output_type": "stream",
       "stream": "stdout",
       "text": [
        "Commit 3e6a6c7* (2014-06-25 10:41 UTC)\n",
        "Platform Info:\n",
        "  System: Darwin (x86_64-apple-darwin12.5.0)\n",
        "  CPU: Intel(R) Core(TM) i5-2557M CPU @ 1.70GHz\n",
        "  WORD_SIZE: 64\n",
        "  BLAS: libgfortblas\n",
        "  LAPACK: liblapack\n",
        "  LIBM: libopenlibm\n"
       ]
      }
     ],
     "prompt_number": 50
    },
    {
     "cell_type": "code",
     "collapsed": false,
     "input": [
      "times_stats[:,:,2]"
     ],
     "language": "python",
     "metadata": {},
     "outputs": [
      {
       "metadata": {},
       "output_type": "pyout",
       "prompt_number": 45,
       "text": [
        "5x3 Array{Float64,2}:\n",
        "     10.0  1.01363e-5  2.79995e-6 \n",
        "    100.0  2.21947e-5  7.63447e-6 \n",
        "   1000.0  0.00019493  6.11548e-5 \n",
        "  10000.0  0.00173316  0.000388836\n",
        " 100000.0  0.0148251   0.00224024 "
       ]
      }
     ],
     "prompt_number": 45
    },
    {
     "cell_type": "code",
     "collapsed": false,
     "input": [
      "mean(filtered_times[3,:,1])"
     ],
     "language": "python",
     "metadata": {},
     "outputs": [
      {
       "metadata": {},
       "output_type": "pyout",
       "prompt_number": 128,
       "text": [
        "0.00012834075000000002"
       ]
      }
     ],
     "prompt_number": 128
    },
    {
     "cell_type": "code",
     "collapsed": false,
     "input": [],
     "language": "python",
     "metadata": {},
     "outputs": [
      {
       "metadata": {},
       "output_type": "pyout",
       "prompt_number": 138,
       "text": [
        "0.50104493321917"
       ]
      }
     ],
     "prompt_number": 138
    },
    {
     "cell_type": "code",
     "collapsed": false,
     "input": [],
     "language": "python",
     "metadata": {},
     "outputs": []
    }
   ],
   "metadata": {}
  }
 ]
}