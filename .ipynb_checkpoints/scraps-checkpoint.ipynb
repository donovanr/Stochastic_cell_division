{
 "metadata": {
  "language": "Julia",
  "name": "",
  "signature": "sha256:512b415b84c1f91ba84a0f5ba016537ae8103b8744cea2908ce3e54f72863a09"
 },
 "nbformat": 3,
 "nbformat_minor": 0,
 "worksheets": [
  {
   "cells": [
    {
     "cell_type": "code",
     "collapsed": false,
     "input": [
      "function normhist(samplevec,binedges)\n",
      "    unnormhist = hist(samplevec,binedges)\n",
      "    binwidth = unnormhist[1][2] - unnormhist[1][1]\n",
      "    xhist = unnormhist[1]\n",
      "    yhist = unnormhist[2]\n",
      "    yhist_norm = yhist/sum(yhist)/binwidth\n",
      "    return xhist, yhist_norm\n",
      "end"
     ],
     "language": "python",
     "metadata": {},
     "outputs": [
      {
       "metadata": {},
       "output_type": "pyout",
       "prompt_number": 1,
       "text": [
        "normhist (generic function with 1 method)"
       ]
      }
     ],
     "prompt_number": 1
    },
    {
     "cell_type": "code",
     "collapsed": false,
     "input": [
      "samplevec = rand(Normal(0,1),10^5)\n",
      "\n",
      "binmin = -5\n",
      "binmax = 5\n",
      "binstep = 0.1\n",
      "binedges = binmin:binstep:binmax\n",
      "\n",
      "f(x) = exp(-x^2/2)/(sqrt(2\u03c0))\n",
      "f_x = binedges\n",
      "f_y = map(f,f_x)\n",
      "\n",
      "myhist = normhist(samplevec,binedges)\n",
      "bincents = myhist[1][2:end] - (myhist[1][2] - myhist[1][1])/2\n",
      "\n",
      "plot(\n",
      "    layer(\n",
      "        x=bincents, y=myhist[2], Geom.point\n",
      "    ),\n",
      "    layer(\n",
      "        x=f_x, y=f_y, Geom.line, Theme(default_color=color(\"red\"))\n",
      "    )\n",
      ")"
     ],
     "language": "python",
     "metadata": {},
     "outputs": [
      {
       "ename": "LoadError",
       "evalue": "Normal not defined\nwhile loading In[2], in expression starting on line 1",
       "output_type": "pyerr",
       "traceback": [
        "Normal not defined\nwhile loading In[2], in expression starting on line 1"
       ]
      }
     ],
     "prompt_number": 2
    },
    {
     "cell_type": "code",
     "collapsed": false,
     "input": [],
     "language": "python",
     "metadata": {},
     "outputs": []
    }
   ],
   "metadata": {}
  }
 ]
}