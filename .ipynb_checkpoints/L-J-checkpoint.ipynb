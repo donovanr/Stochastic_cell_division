{
 "metadata": {
  "language": "Julia",
  "name": ""
 },
 "nbformat": 3,
 "nbformat_minor": 0,
 "worksheets": [
  {
   "cells": [
    {
     "cell_type": "code",
     "collapsed": false,
     "input": [
      "function u_lj(r) # r is a vector\n",
      "    return 4.0*( 1.0./r.^12 - 1.0./r.^6 )\n",
      "end"
     ],
     "language": "python",
     "metadata": {},
     "outputs": [
      {
       "metadata": {},
       "output_type": "pyout",
       "prompt_number": 25,
       "text": [
        "u_lj (generic function with 1 method)"
       ]
      }
     ],
     "prompt_number": 25
    },
    {
     "cell_type": "code",
     "collapsed": false,
     "input": [
      "function expected_r(r,kT)\n",
      "    b_factors = exp( -u_lj(r)/kT )\n",
      "    return sum(b_factors.*r)/sum(b_factors) # bin widths cancel\n",
      "end"
     ],
     "language": "python",
     "metadata": {},
     "outputs": [
      {
       "metadata": {},
       "output_type": "pyout",
       "prompt_number": 26,
       "text": [
        "expected_r (generic function with 1 method)"
       ]
      }
     ],
     "prompt_number": 26
    },
    {
     "cell_type": "code",
     "collapsed": false,
     "input": [
      "my_domain = [0.01:0.01:10];\n",
      "temps = [1.0,2.0,5.0,10.0]\n",
      "\n",
      "for t = temps\n",
      "    println(\"t = \", t, \",   \\t<r> = \", expected_r(my_domain,t)) \n",
      "end"
     ],
     "language": "python",
     "metadata": {},
     "outputs": [
      {
       "output_type": "stream",
       "stream": "stdout",
       "text": [
        "t = 1"
       ]
      },
      {
       "output_type": "stream",
       "stream": "stdout",
       "text": [
        ".0,   \t<r> = 5.22408836454085\n",
        "t = 2.0,   \t<r> = 5.367075857679528\n",
        "t = 5.0,   \t<r> = 5.42457982574893\n",
        "t = 10.0,   \t<r> = 5.431934397848754\n"
       ]
      }
     ],
     "prompt_number": 58
    },
    {
     "cell_type": "code",
     "collapsed": false,
     "input": [
      "my_domain = [0.01:0.01:10];\n",
      "temps = [\n",
      "    1.0,\n",
      "    2.0,\n",
      "    5.0,\n",
      "    10.0,\n",
      "    10.0^2,\n",
      "    10.0^3,\n",
      "    10.0^4,\n",
      "    10.0^10,\n",
      "    10.0^20,\n",
      "    10.0^30,\n",
      "    10.0^50,\n",
      "    ]\n",
      "\n",
      "for t = temps\n",
      "    println(\"t = \", t, \",   \\t<r> = \", expected_r(my_domain,t)) \n",
      "end"
     ],
     "language": "python",
     "metadata": {},
     "outputs": []
    }
   ],
   "metadata": {}
  }
 ]
}