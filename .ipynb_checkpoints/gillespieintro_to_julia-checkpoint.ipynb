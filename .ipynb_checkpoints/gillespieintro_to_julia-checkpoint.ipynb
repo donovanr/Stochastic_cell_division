{
 "metadata": {
  "language": "Julia",
  "name": "",
  "signature": "sha256:c52d8f570e40aa6d1682b5ea7f9952c1e67d9a59c05f0765d481ae1c4d0ec66b"
 },
 "nbformat": 3,
 "nbformat_minor": 0,
 "worksheets": [
  {
   "cells": [
    {
     "cell_type": "heading",
     "level": 1,
     "metadata": {},
     "source": [
      "Using Julia"
     ]
    },
    {
     "cell_type": "heading",
     "level": 2,
     "metadata": {},
     "source": [
      "Some Basics"
     ]
    },
    {
     "cell_type": "markdown",
     "metadata": {},
     "source": [
      "no confusing integer division"
     ]
    },
    {
     "cell_type": "code",
     "collapsed": false,
     "input": [
      "2/3"
     ],
     "language": "python",
     "metadata": {},
     "outputs": [
      {
       "metadata": {},
       "output_type": "pyout",
       "prompt_number": 45,
       "text": [
        "0.6666666666666666"
       ]
      }
     ],
     "prompt_number": 45
    },
    {
     "cell_type": "markdown",
     "metadata": {},
     "source": [
      "but there are fractions"
     ]
    },
    {
     "cell_type": "code",
     "collapsed": false,
     "input": [
      "1 - 1//2 + 1//3 - 1//4 + 1//5 - 1//6 + 1//7"
     ],
     "language": "python",
     "metadata": {},
     "outputs": [
      {
       "metadata": {},
       "output_type": "pyout",
       "prompt_number": 46,
       "text": [
        "319//420"
       ]
      }
     ],
     "prompt_number": 46
    },
    {
     "cell_type": "markdown",
     "metadata": {},
     "source": [
      "unicode characters"
     ]
    },
    {
     "cell_type": "code",
     "collapsed": false,
     "input": [
      "\u2602 = 3.1415926536;\n",
      "exp(\u2602) - \u2602"
     ],
     "language": "python",
     "metadata": {},
     "outputs": [
      {
       "metadata": {},
       "output_type": "pyout",
       "prompt_number": 47,
       "text": [
        "19.999099979415462"
       ]
      }
     ],
     "prompt_number": 47
    },
    {
     "cell_type": "markdown",
     "metadata": {},
     "source": [
      "everything is typed"
     ]
    },
    {
     "cell_type": "code",
     "collapsed": false,
     "input": [
      "typeof(\u2602)"
     ],
     "language": "python",
     "metadata": {},
     "outputs": [
      {
       "metadata": {},
       "output_type": "pyout",
       "prompt_number": 48,
       "text": [
        "Float64"
       ]
      }
     ],
     "prompt_number": 48
    },
    {
     "cell_type": "markdown",
     "metadata": {},
     "source": [
      "types have a hierarchy"
     ]
    },
    {
     "cell_type": "code",
     "collapsed": false,
     "input": [
      "var = true\n",
      "var_type = typeof(var)\n",
      "for i = 1:6\n",
      "    println(var_type);\n",
      "    var_type = super(var_type);\n",
      "end"
     ],
     "language": "python",
     "metadata": {},
     "outputs": [
      {
       "output_type": "stream",
       "stream": "stdout",
       "text": [
        "Bool\n"
       ]
      },
      {
       "output_type": "stream",
       "stream": "stdout",
       "text": [
        "Integer\n",
        "Real\n",
        "Number\n",
        "Any\n",
        "Any\n"
       ]
      }
     ],
     "prompt_number": 5
    },
    {
     "cell_type": "markdown",
     "metadata": {},
     "source": [
      "parrallel computing very similar to map/reduce framework"
     ]
    },
    {
     "cell_type": "code",
     "collapsed": false,
     "input": [
      "nheads = @parallel (+) for i=1:10^8\n",
      "  int(randbool())\n",
      "end"
     ],
     "language": "python",
     "metadata": {},
     "outputs": [
      {
       "metadata": {},
       "output_type": "pyout",
       "prompt_number": 49,
       "text": [
        "50004011"
       ]
      }
     ],
     "prompt_number": 49
    },
    {
     "cell_type": "markdown",
     "metadata": {},
     "source": [
      "easy to run external programs"
     ]
    },
    {
     "cell_type": "code",
     "collapsed": false,
     "input": [
      "run(`ls -l`)"
     ],
     "language": "python",
     "metadata": {},
     "outputs": [
      {
       "output_type": "stream",
       "stream": "stdout",
       "text": [
        "total 1600\n",
        "-rw-r--r--  1 donovanr  staff  742526 Jul 24 14:37 gillespie.ipynb\n",
        "drwxr-xr-x  4 donovanr  staff     136 Jul 14 17:16 gillespiemodule\n",
        "-rw-r--r--@ 1 donovanr  staff   66180 Jul 24 14:19 myplot.png\n",
        "-rw-r--r--  1 donovanr  staff    2247 Jul 16 12:30 scraps.ipynb\n"
       ]
      }
     ],
     "prompt_number": 50
    },
    {
     "cell_type": "heading",
     "level": 2,
     "metadata": {},
     "source": [
      "Calling other languages"
     ]
    },
    {
     "cell_type": "heading",
     "level": 3,
     "metadata": {},
     "source": [
      "Python"
     ]
    },
    {
     "cell_type": "code",
     "collapsed": false,
     "input": [
      "using PyCall\n",
      "@pyimport math\n",
      "math.sin(pi / 4) - sin(math.pi / 4)  # python function using julia pi and vice versa"
     ],
     "language": "python",
     "metadata": {},
     "outputs": [
      {
       "metadata": {},
       "output_type": "pyout",
       "prompt_number": 59,
       "text": [
        "0.0"
       ]
      }
     ],
     "prompt_number": 59
    },
    {
     "cell_type": "code",
     "collapsed": false,
     "input": [
      "@pyimport scipy.optimize as so\n",
      "so.newton(x -> cos(x) - x, 1)  # python optimization routine getting passed a julia function (cos)"
     ],
     "language": "python",
     "metadata": {},
     "outputs": [
      {
       "metadata": {},
       "output_type": "pyout",
       "prompt_number": 60,
       "text": [
        "0.7390851332151607"
       ]
      }
     ],
     "prompt_number": 60
    },
    {
     "cell_type": "code",
     "collapsed": false,
     "input": [
      "@pyimport Bio.Seq as s\n",
      "@pyimport Bio.Alphabet as a\n",
      "my_dna = s.Seq(\"AGTACACTGGT\", a.generic_dna)\n",
      "my_dna[:find](\"TGG\")  # use python method on python object in julia"
     ],
     "language": "python",
     "metadata": {},
     "outputs": [
      {
       "metadata": {},
       "output_type": "pyout",
       "prompt_number": 61,
       "text": [
        "7"
       ]
      }
     ],
     "prompt_number": 61
    },
    {
     "cell_type": "heading",
     "level": 3,
     "metadata": {},
     "source": [
      "C"
     ]
    },
    {
     "cell_type": "code",
     "collapsed": false,
     "input": [
      "t = ccall( (:clock, \"libc\"), Int32, ()) # provide (:library, \"function\") pair, and in/out types"
     ],
     "language": "python",
     "metadata": {},
     "outputs": [
      {
       "metadata": {},
       "output_type": "pyout",
       "prompt_number": 62,
       "text": [
        "120617363"
       ]
      }
     ],
     "prompt_number": 62
    },
    {
     "cell_type": "code",
     "collapsed": false,
     "input": [
      "shellpath = ccall( (:getenv, \"libc\"), Ptr{Uint8}, (Ptr{Uint8},), \"SHELL\")"
     ],
     "language": "python",
     "metadata": {},
     "outputs": [
      {
       "metadata": {},
       "output_type": "pyout",
       "prompt_number": 63,
       "text": [
        "Ptr{Uint8} @0x00007fff5fbffe5f"
       ]
      }
     ],
     "prompt_number": 63
    },
    {
     "cell_type": "code",
     "collapsed": false,
     "input": [
      "bytestring(shellpath)"
     ],
     "language": "python",
     "metadata": {},
     "outputs": [
      {
       "metadata": {},
       "output_type": "pyout",
       "prompt_number": 64,
       "text": [
        "\"/bin/bash\""
       ]
      }
     ],
     "prompt_number": 64
    },
    {
     "cell_type": "code",
     "collapsed": false,
     "input": [],
     "language": "python",
     "metadata": {},
     "outputs": []
    }
   ],
   "metadata": {}
  }
 ]
}